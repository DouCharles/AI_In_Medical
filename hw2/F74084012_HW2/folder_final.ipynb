{
 "cells": [
  {
   "cell_type": "code",
   "execution_count": null,
   "metadata": {},
   "outputs": [],
   "source": [
    "import pandas as pd\n",
    "df = pd.read_csv(\"./Data_Entry_2017.csv\")\n",
    "nofind = df[df['Finding Labels'] == \"No Finding\"]\n",
    "nodule = df[df['Finding Labels'] == \"Nodule\"]"
   ]
  },
  {
   "cell_type": "code",
   "execution_count": null,
   "metadata": {},
   "outputs": [],
   "source": [
    "nodule"
   ]
  },
  {
   "cell_type": "code",
   "execution_count": null,
   "metadata": {},
   "outputs": [],
   "source": [
    "nofind"
   ]
  },
  {
   "cell_type": "code",
   "execution_count": null,
   "metadata": {},
   "outputs": [],
   "source": [
    "import json\n",
    "import os\n",
    "nofind_json = []\n",
    "nodule_json = []\n",
    "t = True\n",
    "for file in nodule['Image Index']:\n",
    "    for j in range(1,10):\n",
    "        path = os.path.join(f\"images_00{j}\",'images',file)\n",
    "        if os.path.exists(path):\n",
    "            nodule_json.append([file,path])\n",
    "            print(len(nodule_json),path)\n",
    "            t = True\n",
    "            break\n",
    "    if t: t = False ; continue\n",
    "    for j in range(10,13):\n",
    "        path = os.path.join(f\"images_0{j}\",'images',file)\n",
    "        if os.path.exists(path):\n",
    "            nodule_json.append([file,path])\n",
    "            print(len(nodule_json),path)\n",
    "            break\n",
    "\n",
    "print(\"----nodule Finish---\")\n",
    "t = True\n",
    "\n",
    "for file in nofind['Image Index']:\n",
    "    for j in range(1,10):\n",
    "        path = os.path.join(f\"images_00{j}\",'images',file)\n",
    "        if os.path.exists(path):\n",
    "            nofind_json.append([file,path])\n",
    "            print(len(nofind_json),path)\n",
    "            t = True\n",
    "            break\n",
    "    if t: t = False ; continue\n",
    "    for j in range(10,13):\n",
    "        path = os.path.join(f\"images_0{j}\",'images',file)\n",
    "        if os.path.exists(path):\n",
    "            nofind_json.append([file,path])\n",
    "            print(len(nofind_json),path)\n",
    "            break\n",
    "\n",
    "with open(\"nofind.json\", \"w\") as file:\n",
    "    json.dump(nofind,file)\n",
    "with open(\"nodule.json\", \"w\") as file:\n",
    "    json.dump(nodule,file)"
   ]
  },
  {
   "cell_type": "code",
   "execution_count": null,
   "metadata": {},
   "outputs": [],
   "source": [
    "import json\n",
    "import os\n",
    "import cv2\n",
    "with open(\"nofind.json\", \"r\") as file_object:\n",
    "    nofind = json.load(file_object) \n",
    "with open(\"nodule.json\", \"r\") as file_object:\n",
    "    nodule = json.load(file_object) \n",
    "nodulePath = \"./dataset/nodule\"\n",
    "nofindPath = \"./dataset/nofind\"\n",
    "os.makedirs(nodulePath)\n",
    "os.makedirs(nofindPath)\n",
    "\n",
    "size = 128\n",
    "\n",
    "for file, path in nodule:  # sick \n",
    "    image = cv2.imread(path)\n",
    "    image = cv2.resize(image,(size,size))    \n",
    "    cv2.imwrite(os.path.join(nodulePath,file),image)\n",
    "\n",
    "for file, path in nofind[:10000]:\n",
    "    image = cv2.imread(path)\n",
    "    image = cv2.resize(image,(size,size))\n",
    "    cv2.imwrite(os.path.join(nofindPath,file),image)\n",
    "\n"
   ]
  }
 ],
 "metadata": {
  "kernelspec": {
   "display_name": "Python 3",
   "language": "python",
   "name": "python3"
  },
  "language_info": {
   "name": "python",
   "version": "3.7.7 (tags/v3.7.7:d7c567b08f, Mar 10 2020, 10:41:24) [MSC v.1900 64 bit (AMD64)]"
  },
  "orig_nbformat": 4,
  "vscode": {
   "interpreter": {
    "hash": "c2b532e7d675adfad5c5bc3e9d254cea3f73b84860216200944f61e86879a24b"
   }
  }
 },
 "nbformat": 4,
 "nbformat_minor": 2
}
